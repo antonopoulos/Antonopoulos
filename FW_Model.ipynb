{
 "cells": [
  {
   "cell_type": "code",
   "execution_count": 23,
   "metadata": {
    "collapsed": true
   },
   "outputs": [],
   "source": [
    "import numpy as np\n",
    "import sympy as sp\n",
    "import scipy as scp\n",
    "import scipy.stats as sts\n",
    "import matplotlib\n",
    "import matplotlib.pyplot as plt\n",
    "from scipy import stats as sts\n",
    "import scipy.optimize as opt\n",
    "from mpl_toolkits import mplot3d"
   ]
  },
  {
   "cell_type": "code",
   "execution_count": 24,
   "metadata": {
    "collapsed": true
   },
   "outputs": [],
   "source": [
    "data_prices=np.loadtxt('C:\\\\Users\\\\Takan\\\\Desktop\\\\Chicago_MAPSS\\\\Core Study\\\\Quarter2\\\\Structural Estimation\\\\Project_Presentation\\\\logprices.txt')"
   ]
  },
  {
   "cell_type": "markdown",
   "metadata": {},
   "source": [
    "# Calculation of Data Moments"
   ]
  },
  {
   "cell_type": "code",
   "execution_count": 25,
   "metadata": {},
   "outputs": [
    {
     "name": "stdout",
     "output_type": "stream",
     "text": [
      "The average log-price is= 6.47989444432\n",
      "data_kurtosis= 26.93297234893738\n",
      "Average Absolute Returns= 0.00739804449745\n",
      "First order Autocorr of Returns= -0.0265566666011\n",
      "Autocorrel of Abs Ret= 0.227810544662 0.240651472317 0.22581036083 0.175541416824 0.138314837933 0.0998260197641 0.0477729698108\n"
     ]
    }
   ],
   "source": [
    "data_average_price=np.mean(data_prices) #average log price\n",
    "print('The average log-price is=',data_average_price)\n",
    "##############################################################################\n",
    "data_returns=np.zeros((len(data_prices)-1)) #Calculate the returns from the empirical data\n",
    "for i in range(0,len(data_prices)-1):\n",
    "    data_returns[i]=data_prices[i+1]-data_prices[i]\n",
    "\n",
    "##############################################################################\n",
    "\n",
    "data_kurtosis=sts.kurtosis(data_returns) # data kurtosis\n",
    "print('data_kurtosis=',data_kurtosis)\n",
    "##############################################################################\n",
    "data_mean_abs_ret=np.mean(np.abs(data_returns)) # mean of absolute returns\n",
    "print('Average Absolute Returns=',data_mean_abs_ret)\n",
    "##############################################################################\n",
    "def autocorr_fun(xvals,lag): # Define autocorrelation function \n",
    "    xvals1 = xvals[:(len(xvals)-lag)]\n",
    "    xvals2 = xvals[lag:]\n",
    "    sum_product = np.sum((xvals1-np.mean(xvals1))*(xvals2-np.mean(xvals2)))\n",
    "    return sum_product / ((len(xvals) - lag) * np.std(xvals1) * np.std(xvals2))\n",
    "\n",
    "data_autocorr_ret1=autocorr_fun(data_returns,1) # first order autocorr of returns\n",
    "print('First order Autocorr of Returns=',data_autocorr_ret1)\n",
    "##############################################################################\n",
    "data_autocorr1=autocorr_fun(np.abs(data_returns),1) # autocorrelations of absolute returns to capture long memory effect\n",
    "data_autocorr7=autocorr_fun(np.abs(data_returns),7)\n",
    "data_autocorr10=autocorr_fun(np.abs(data_returns),10)\n",
    "data_autocorr25=autocorr_fun(np.abs(data_returns),25)\n",
    "data_autocorr50=autocorr_fun(np.abs(data_returns),50)\n",
    "data_autocorr100=autocorr_fun(np.abs(data_returns),100)\n",
    "data_autocorr200=autocorr_fun(np.abs(data_returns),200)\n",
    "##############################################################################\n",
    "print('Autocorrel of Abs Ret=',data_autocorr1,data_autocorr7,data_autocorr10,\n",
    "      data_autocorr25,data_autocorr50,data_autocorr100,data_autocorr200)   "
   ]
  },
  {
   "cell_type": "code",
   "execution_count": 26,
   "metadata": {
    "collapsed": true
   },
   "outputs": [],
   "source": [
    "def bootstrap_resample(X, n=None):  # resample with redraw. X is the size of the new sample n is the number of the generated samples\n",
    "    \"\"\" Bootstrap resample an array_like\n",
    "    Parameters\n",
    "    ----------\n",
    "    X : array_like\n",
    "      data to resample\n",
    "    n : int, optional\n",
    "      length of resampled array, equal to len(X) if n==None\n",
    "    Results\n",
    "    -------\n",
    "    returns X_resamples\n",
    "    \"\"\"\n",
    "    if n == None:\n",
    "        n = len(X)\n",
    "        \n",
    "    resample_i = np.floor(np.random.rand(n)*len(X)).astype(int)\n",
    "    X_resample = X[resample_i]\n",
    "    return X_resample"
   ]
  },
  {
   "cell_type": "code",
   "execution_count": 27,
   "metadata": {},
   "outputs": [
    {
     "name": "stdout",
     "output_type": "stream",
     "text": [
      "The average bootrapped absolute return is= 0.00739719004026\n",
      "The Bootstrapped Kurtosis of The returns is= 24.2365045564\n"
     ]
    }
   ],
   "source": [
    "boot_ret=np.zeros((5000,1000))  # I generate 1000 new samples with length 5000 from the original series\n",
    "for j in range(0,1000):\n",
    "    boot_ret[:,j]=bootstrap_resample(data_returns,n=5000)\n",
    "##############################################################################\n",
    "boot_average_abs_ret=np.mean(np.mean(np.abs(boot_ret),axis=0)) # bootstrapped average absolute return\n",
    "print('The average bootrapped absolute return is=',boot_average_abs_ret)\n",
    "##############################################################################\n",
    "boot_data_kurt=np.zeros((1000)) #bootstrapped kurtosis\n",
    "for j in range(0,1000):\n",
    "    boot_data_kurt[j]=sts.kurtosis(boot_ret[:,j])\n",
    "##############################################################################\n",
    "boot_data_kurt\n",
    "boot_data_kurt=np.mean(boot_data_kurt)\n",
    "print('The Bootstrapped Kurtosis of The returns is=',boot_data_kurt)"
   ]
  },
  {
   "cell_type": "code",
   "execution_count": 28,
   "metadata": {
    "collapsed": true
   },
   "outputs": [],
   "source": [
    "def column_to_vector(matrix, i):\n",
    "    return [row[i] for row in matrix]\n",
    "import numpy\n",
    "def remove_NaN_columns(matrix):\n",
    "    import scipy\n",
    "    import math\n",
    "    from numpy import column_stack, vstack\n",
    "\n",
    "    columns = matrix.shape[1]\n",
    "    #print(\"columns\", columns)\n",
    "    result = []\n",
    "    skip_column = True\n",
    "    for column in range(0, columns):\n",
    "        vector = column_to_vector(matrix, column)\n",
    "        skip_column = False\n",
    "        for value in vector:\n",
    "            # print(column, vector, value, math.isnan(value) )\n",
    "            if math.isnan(value):\n",
    "                skip_column = True\n",
    "        if skip_column == False:\n",
    "            result.append(vector)\n",
    "    return column_stack(result)"
   ]
  },
  {
   "cell_type": "code",
   "execution_count": 29,
   "metadata": {
    "collapsed": true
   },
   "outputs": [],
   "source": [
    "#dimensions of simulations\n",
    "length=2000  # number of simulated days\n",
    "width=100   # number of realizations\n",
    "\n",
    "\n",
    "# Create epsilons_f for the fundamentslists\n",
    "unif_vals_f = sts.uniform.rvs(0, 1, size=(length,width))\n",
    "def norm_draws_f(sigma_f): # random draws for the epsilons N(0,sigma)\n",
    "    norm_draws = sts.norm.ppf(unif_vals_f, loc=0, scale=sigma_f)\n",
    "    return norm_draws\n",
    "\n",
    "\n",
    "\n",
    "# Create epsilons for the chartists\n",
    "unif_vals_c = sts.uniform.rvs(0, 1, size=(length,width))\n",
    "def norm_draws_c(sigma_c): # random draws for the epsilons N(0,sigma)\n",
    "    norm_draws = sts.norm.ppf(unif_vals_c, loc=0, scale=sigma_c)\n",
    "    return norm_draws\n",
    "\n",
    "\n",
    "\n",
    "def alpha_price_3(phi,chi,sigma_f,sigma_c): # I keep a_star=-0.15 a_n=2.35 a_p=11.40 mu=0.001\n",
    "    \n",
    "    a_star=-0.15\n",
    "    a_n=1.35\n",
    "    a_p=11.40\n",
    "    mu=0.001\n",
    "    \n",
    "    \n",
    "    eps_f=np.zeros((length,width))\n",
    "    eps_c=np.zeros((length,width))\n",
    "    \n",
    "    eps_f=norm_draws_f(sigma_f)\n",
    "    eps_c=norm_draws_c(sigma_c)\n",
    "    \n",
    "    price=np.zeros((length,width))\n",
    "    price[0,:]=0\n",
    "    #price[1,:]=0.001\n",
    "    #price[1,:]=0.001\n",
    "    a=np.zeros((length,width))\n",
    "    \n",
    "    \n",
    "    def g(z):\n",
    "        p=z[0]\n",
    "        g=0\n",
    "        g=a[0,0]-a_star-a_n*(1/(1+np.exp(-a[0,0]))-1/(1+np.exp(a[0,0])))-a_p*(p)**2\n",
    "        return g\n",
    "    sol_1=scp.optimize.root(g,(-a_star/a_p)**0.5)\n",
    "    price[0,:]=sol_1.x\n",
    "    #print(sol_1.qtf)\n",
    "    \n",
    "    def k(z):\n",
    "        p=z[0]\n",
    "        k=0\n",
    "        k=a[1,0]-a_star-a_n*(1/(1+np.exp(-a[1,0]))-1/(1+np.exp(a[1,0])))-a_p*(p)**2\n",
    "        return k\n",
    "    sol_2=scp.optimize.root(g,(-a_star/a_p)**0.5)\n",
    "    price[1,:]=sol_2.x\n",
    "    #print(sol_2.qtf)\n",
    "    \n",
    "    \n",
    "    guess=np.zeros((length,width))\n",
    "    for i in range(2,length):\n",
    "        for j in range(0,width):\n",
    "            def f(alpha):\n",
    "                f=alpha-a_star-a_n*(1/(1+np.exp(-alpha))-1/(1+np.exp(alpha)))-a_p*(price[i-1,j])**2\n",
    "                return f\n",
    "            def jac(alpha):\n",
    "                jac=1-a_n*(1+np.exp(-alpha))**(-2)*np.exp(-alpha)-a_n*(1+np.exp(alpha))**(-2)*np.exp(alpha)\n",
    "                return jac\n",
    "            guess[i,j]=a[i-1,j]+(a_p*2*price[i-1,j]/(1-a_n*(1+np.exp(-a[i-1,j]))**(-2)*np.exp(-a[i-1,j])-a_n*(1+np.exp(a[i-1,j]))**(-2)*np.exp(a[i-1,j])))*(price[i-1,j]-price[i-2,j])\n",
    "            sol= scp.optimize.root(f, (guess[i,j]),tol=1e-10)\n",
    "            a[i,j]=sol.x\n",
    "            #print(sol.qtf)\n",
    "            #print(sol[1].get(\"qtf\"))\n",
    "            #print(sol[1].get(\"mesg\"))\n",
    "            price[i,j]=price[i-1,j]+mu*(phi*(-price[i-1,j])/(1+np.exp(-a[i-1,j]))+chi*((price[i-1,j]-price[i-2,j])/(1+np.exp(a[i-1,j])))+(1/(1+np.exp(-a[i-1,j])))*eps_f[i-1,j]+(1/1+np.exp(a[i-1,j]))*eps_c[i-1,j])\n",
    "            \n",
    "     \n",
    "    \n",
    "    price=remove_NaN_columns(price)\n",
    "    a=remove_NaN_columns(a)\n",
    "    \n",
    "    return (a,price)"
   ]
  },
  {
   "cell_type": "code",
   "execution_count": null,
   "metadata": {
    "collapsed": true
   },
   "outputs": [],
   "source": [
    "#Test parameter values\n",
    "a,price=alpha_price_3(1.4175674,5.38736297, 0.87759283,  3.95696199)"
   ]
  },
  {
   "cell_type": "code",
   "execution_count": null,
   "metadata": {
    "collapsed": true
   },
   "outputs": [],
   "source": [
    "#Plot the alpha series\n",
    "%matplotlib notebook\n",
    "plt.plot(a)\n",
    "plt.show()"
   ]
  },
  {
   "cell_type": "code",
   "execution_count": null,
   "metadata": {
    "collapsed": true
   },
   "outputs": [],
   "source": [
    "#Plot the price series\n",
    "%matplotlib notebook\n",
    "plt.plot(price)\n",
    "plt.axhline(y=0, color='r', linestyle='-')\n",
    "plt.gca().legend(('Asset Price','Fair Price'))\n",
    "plt.show()"
   ]
  },
  {
   "cell_type": "code",
   "execution_count": null,
   "metadata": {
    "collapsed": true
   },
   "outputs": [],
   "source": [
    "#Plot the fundamentalists shares\n",
    "n_fund=np.zeros((length,len(price[0])))\n",
    "for i in range(0,length):\n",
    "    for j in range(0,len(price[0])):\n",
    "        n_fund[i,j]=1/(1+np.exp(-a[i,j]))\n",
    "        \n",
    "n_chart=np.zeros((length,len(price[0])))\n",
    "for i in range(0,length):\n",
    "    for j in range(0,len(price[0])):\n",
    "        n_chart[i,j]=1/(1+np.exp(a[i,j]))\n",
    "\n",
    "%matplotlib notebook\n",
    "plt.plot(n_fund[:,50],linewidth=0.9)\n",
    "plt.show()"
   ]
  },
  {
   "cell_type": "code",
   "execution_count": null,
   "metadata": {
    "collapsed": true
   },
   "outputs": [],
   "source": [
    "#Plot the returns series\n",
    "returns=np.zeros((length,len(price[0])))\n",
    "for i in range(0,length-1):\n",
    "    for j in range(0,len(price[0])):\n",
    "        returns[i,j]=price[i+1,j]-price[i,j]\n",
    "\n",
    "    \n",
    "        \n",
    "        \n",
    "%matplotlib notebook\n",
    "plt.plot(returns[:,50],linewidth=0.9)\n",
    "plt.show()"
   ]
  },
  {
   "cell_type": "code",
   "execution_count": 30,
   "metadata": {
    "collapsed": true
   },
   "outputs": [],
   "source": [
    "def err_vec(phi,chi,sigma_f,sigma_c,simple):\n",
    "    \n",
    "    data_moms=np.array([[data_mean_abs_ret],[data_kurtosis],\n",
    "                        [data_autocorr_ret1],[data_autocorr1],[data_autocorr7],[data_autocorr10],\n",
    "                        [data_autocorr25],[data_autocorr50]])\n",
    "    \n",
    "    #####################################   Model Moments ###############################################################\n",
    "    model_alpha,model_price=alpha_price_3(phi,chi,sigma_f,sigma_c) # calculation of prices and attractivene\n",
    "    #print(model_price.shape)\n",
    "    \n",
    "    #print('model_alpha=',model_alpha)\n",
    "    #print('model_price=',model_price)\n",
    "    \n",
    "    n_fund=np.zeros((2000,len(model_price[0])))\n",
    "    for i in range(0,2000):\n",
    "        for j in range(0,len(model_price[0])):\n",
    "            n_fund[i,j]=1/(1+np.exp(-model_alpha[i,j]))\n",
    "            \n",
    "    n_chart=np.zeros((2000,len(model_price[0])))\n",
    "    for i in range(0,2000):\n",
    "        for j in range(0,len(model_price[0])):\n",
    "            n_chart[i,j]=1/(1+np.exp(model_alpha[i,j]))\n",
    "    \n",
    "    model_returns=np.zeros((2000-1,len(model_price[0])))\n",
    "    for i in range(0,2000-1):\n",
    "        for j in range(0,len(model_price[0])):\n",
    "            model_returns[i,j]=model_price[i+1,j]-model_price[i,j]\n",
    "\n",
    "    #print('model_returns=',model_returns)\n",
    "    \n",
    "    model_mean_abs_ret=np.mean(np.mean(np.abs(model_returns),axis=0)) #model average absolute return\n",
    "    #print('model_mean_abs_ret=',model_mean_abs_ret)\n",
    "    model_kurtosis=np.mean(sts.kurtosis(model_returns,axis=0)) #model kurtosis\n",
    "    #print('model_kurtosis=',model_kurtosis)\n",
    "    \n",
    "    model_autocorr_returns1=np.zeros((len(model_price[0])))\n",
    "    for j in range(0,len(model_price[0])):\n",
    "        model_autocorr_returns1[j]=autocorr_fun(model_returns[:,j],1)\n",
    "    model_autocorr_returns1=np.mean(model_autocorr_returns1) # model 1st order autocorrelation of raw returns\n",
    "    #print('model_autocorr_returns1=',model_autocorr_returns1)\n",
    "    \n",
    "    ################        Calculation of autocorrelations of absolute returns   ###################################\n",
    "    model_abs_ret=np.abs(model_returns)\n",
    "    \n",
    "    model_autocorr_abs_ret1=np.zeros((len(model_price[0])))\n",
    "    for j in range(0,len(model_price[0])):\n",
    "        model_autocorr_abs_ret1[j]=autocorr_fun(model_abs_ret[:,j],1)\n",
    "    model_autocorr_abs_ret1=np.mean(model_autocorr_abs_ret1)\n",
    "        \n",
    "    model_autocorr_abs_ret7=np.zeros((len(model_price[0])))\n",
    "    for j in range(0,len(model_price[0])):\n",
    "        model_autocorr_abs_ret7[j]=autocorr_fun(model_abs_ret[:,j],7)\n",
    "    model_autocorr_abs_ret7=np.mean(model_autocorr_abs_ret7)\n",
    "    \n",
    "    model_autocorr_abs_ret10=np.zeros((len(model_price[0])))\n",
    "    for j in range(0,len(model_price[0])):\n",
    "        model_autocorr_abs_ret10[j]=autocorr_fun(model_abs_ret[:,j],10)\n",
    "    model_autocorr_abs_ret10=np.mean(model_autocorr_abs_ret10)\n",
    "    \n",
    "    model_autocorr_abs_ret25=np.zeros((len(model_price[0])))\n",
    "    for j in range(0,len(model_price[0])):\n",
    "        model_autocorr_abs_ret25[j]=autocorr_fun(model_abs_ret[:,j],25)\n",
    "    model_autocorr_abs_ret25=np.mean(model_autocorr_abs_ret25)\n",
    "    \n",
    "    model_autocorr_abs_ret50=np.zeros((len(model_price[0])))\n",
    "    for j in range(0,len(model_price[0])):\n",
    "        model_autocorr_abs_ret50[j]=autocorr_fun(model_abs_ret[:,j],50)\n",
    "    model_autocorr_abs_ret50=np.mean(model_autocorr_abs_ret50)\n",
    "    \n",
    "    #model_autocorr_abs_ret100=np.zeros((len(model_price[0]))) # only if you want to use an additional moment\n",
    "    #for j in range(0,len(model_price[0])):\n",
    "        #model_autocorr_abs_ret100[j]=autocorr_fun(model_abs_ret[:,j],100)\n",
    "    #model_autocorr_abs_ret100=np.mean(model_autocorr_abs_ret100)\n",
    "    \n",
    "    \n",
    "    model_moms=np.array([[ model_mean_abs_ret],[model_kurtosis],[model_autocorr_returns1],\n",
    "                         [model_autocorr_abs_ret1],[model_autocorr_abs_ret7],\n",
    "                         [model_autocorr_abs_ret10],[model_autocorr_abs_ret25],\n",
    "                         [model_autocorr_abs_ret50]])\n",
    "    \n",
    "    if simple:\n",
    "        err_vector = model_moms - data_moms\n",
    "    else:\n",
    "        err_vector = (model_moms - data_moms) / data_moms\n",
    "    \n",
    "    return err_vector"
   ]
  },
  {
   "cell_type": "code",
   "execution_count": 31,
   "metadata": {
    "collapsed": true
   },
   "outputs": [],
   "source": [
    "def crit(params,*args):\n",
    "    phi,chi,sigma_f,sigma_c= params\n",
    "    W_hat = args\n",
    "    err = err_vec(phi,chi,sigma_f,sigma_c,simple=False)\n",
    "    crit_val = np.dot(np.dot(err.T, W_hat), err) \n",
    "    print(crit_val)\n",
    "    print(params)\n",
    "    \n",
    "    return crit_val"
   ]
  },
  {
   "cell_type": "code",
   "execution_count": null,
   "metadata": {
    "collapsed": true
   },
   "outputs": [],
   "source": [
    "#Optimization\n",
    "\n",
    "phi_init=0.54\n",
    "chi_init=5.084\n",
    "sigma_f_init=0.00949\n",
    "sigma_c_init=4.157\n",
    "params_init=np.array([phi_init,chi_init,sigma_f_init,sigma_c_init])\n",
    "W_hat=np.eye(8)\n",
    "args=W_hat\n",
    "\n",
    "results=opt.minimize(crit, params_init, args=(args),method='L-BFGS-B',bounds=((1e-08,10+1e-08),(1e-08,10.38-1e-08)\n",
    "                                                                           ,(1e-08,8.50-1e-08),\n",
    "                                                                           (1e-08,4.30-1e-08)),options={'eps':0.0001})\n",
    "print(results)"
   ]
  },
  {
   "cell_type": "code",
   "execution_count": null,
   "metadata": {
    "collapsed": true
   },
   "outputs": [],
   "source": [
    "#Obtain variance covariance matrix \n",
    "invhess=results.hess_inv.todense()\n",
    "OffDiagNeg = np.array([[1, -1,-1,-1],[-1, 1,-1,-1],[-1,-1,1,-1],[-1,-1,-1, 1]])\n",
    "vcv = invhess*OffDiagNeg\n",
    "vcv"
   ]
  },
  {
   "cell_type": "code",
   "execution_count": null,
   "metadata": {
    "collapsed": true
   },
   "outputs": [],
   "source": []
  }
 ],
 "metadata": {
  "kernelspec": {
   "display_name": "Python 3",
   "language": "python",
   "name": "python3"
  },
  "language_info": {
   "codemirror_mode": {
    "name": "ipython",
    "version": 3
   },
   "file_extension": ".py",
   "mimetype": "text/x-python",
   "name": "python",
   "nbconvert_exporter": "python",
   "pygments_lexer": "ipython3",
   "version": "3.6.3"
  }
 },
 "nbformat": 4,
 "nbformat_minor": 2
}
